{
 "cells": [
  {
   "cell_type": "markdown",
   "id": "64d9649a",
   "metadata": {},
   "source": [
    "# ASSIGNMENT 08 (10JUNE)"
   ]
  },
  {
   "cell_type": "markdown",
   "id": "f55a50b7",
   "metadata": {},
   "source": [
    "que 1 = In Python, what is the difference between a built-in function and a user-defined function? Provide an\n",
    "        example of each.\n",
    "\n",
    "ans 1 = In Python, both built-in functions and user-defined functions are used to perform specific tasks or operations within a program. However, they differ in their origins and how they are defined:\n",
    "\n",
    "Built-in Functions:\n",
    "Built-in functions are functions that are provided by the Python programming language itself.\n",
    "They are available for use without the need for any additional coding or defining.\n",
    "Examples include functions like print(), len(), max(), sum(), str(), etc.\n",
    "These functions are a part of the Python standard library and cover a wide range of common operations.\n",
    "Here's an example of a built-in function:"
   ]
  },
  {
   "cell_type": "code",
   "execution_count": 1,
   "id": "98e1fc88",
   "metadata": {},
   "outputs": [
    {
     "name": "stdout",
     "output_type": "stream",
     "text": [
      "Length of the string: 13\n"
     ]
    }
   ],
   "source": [
    "text = \"Hello, World!\"\n",
    "length = len(text)\n",
    "print(\"Length of the string:\", length)\n"
   ]
  },
  {
   "cell_type": "markdown",
   "id": "5c106ee8",
   "metadata": {},
   "source": [
    "User-Defined Functions:\n",
    "User-defined functions are functions that are created by the programmer or user to perform specific tasks or encapsulate a set of instructions.\n",
    "They are defined using the def keyword followed by a function name, parameters (if any), and a block of code.\n",
    "User-defined functions are reusable and allow you to organize your code into smaller, more manageable pieces."
   ]
  },
  {
   "cell_type": "code",
   "execution_count": 4,
   "id": "ff471400",
   "metadata": {},
   "outputs": [
    {
     "name": "stdout",
     "output_type": "stream",
     "text": [
      "Hello, sachin!\n"
     ]
    }
   ],
   "source": [
    "def greet(name):\n",
    "    \"\"\"This function greets the person passed in as a parameter.\"\"\"\n",
    "    print(\"Hello, \" + name + \"!\")\n",
    "greet(\"sachin\")\n"
   ]
  },
  {
   "cell_type": "markdown",
   "id": "b898be88",
   "metadata": {},
   "source": [
    "que2 = How can you pass arguments to a function in Python? Explain the difference between positional\n",
    "       arguments and keyword arguments.\n",
    "    \n",
    "ans 2 = In Python, you can pass arguments to a function in two main ways: using positional arguments and using keyword arguments. Let's explore the difference between these two types of arguments:\n",
    "\n",
    "Positional Arguments:\n",
    "Positional arguments are the most basic way to pass arguments to a function.\n",
    "They are specified in the order in which the function expects them.\n",
    "When you call a function with positional arguments, the values are assigned to the parameters in the same order as they appear in the function definition.\n",
    "If the order is not correct or if you miss any positional argument, you will get a TypeError"
   ]
  },
  {
   "cell_type": "code",
   "execution_count": 9,
   "id": "cf3713f0",
   "metadata": {},
   "outputs": [
    {
     "data": {
      "text/plain": [
       "5"
      ]
     },
     "execution_count": 9,
     "metadata": {},
     "output_type": "execute_result"
    }
   ],
   "source": [
    "def add(a, b):\n",
    "    return a + b\n",
    "\n",
    "result = add(2, 3) \n",
    "result\n"
   ]
  },
  {
   "cell_type": "markdown",
   "id": "4c7debf6",
   "metadata": {},
   "source": [
    "2)Keyword Arguments: Keyword arguments are specified using the parameter names (keywords) when calling the function.\n",
    "With keyword arguments, you can pass the arguments in any order, as long as you specify the parameter names.\n",
    "This makes your code more readable and self-explanatory because you explicitly state which argument is meant for which parameter.\n",
    "Keyword arguments are particularly useful when you want to provide default values for some function parameters.\n",
    "Here's an example using keyword arguments:"
   ]
  },
  {
   "cell_type": "code",
   "execution_count": 10,
   "id": "81bfc8dc",
   "metadata": {},
   "outputs": [
    {
     "data": {
      "text/plain": [
       "'Hi, sachin!'"
      ]
     },
     "execution_count": 10,
     "metadata": {},
     "output_type": "execute_result"
    }
   ],
   "source": [
    "def greet(name, message=\"Hello\"):\n",
    "    return f\"{message}, {name}!\"\n",
    "\n",
    "greeting = greet(message=\"Hi\", name=\"sachin\")\n",
    "greeting\n"
   ]
  },
  {
   "cell_type": "markdown",
   "id": "53a8b67b",
   "metadata": {},
   "source": [
    "que 3 = What is the purpose of the return statement in a function? Can a function have multiple return\n",
    "        statements? Explain with an example.\n",
    "\n",
    "ans 3 = The return statement in a function serves the purpose of specifying the value that the function should produce as its result when it is called. It essentially allows you to send a value back to the code that called the function. Once a return statement is executed within a function, it immediately terminates the function's execution and passes control and the specified value back to the caller.\n",
    "\n",
    "A function can have multiple return statements, but only one of them will be executed in a single function call. The specific return statement that gets executed depends on the flow of control within the function. Once a return statement is executed, the function exits, and no further code within that function will be executed.\n",
    "\n",
    "Here's an example to illustrate the use of return statements and having multiple return statements in a function:\n",
    "\n",
    "\n",
    "\n",
    "\n",
    "So, to answer your question, yes, a function can have multiple return statements, but only one of them will be executed in each function call based on the conditional logic or flow of control within the function.\n",
    "\n",
    "\n",
    "\n",
    "\n",
    "\n"
   ]
  },
  {
   "cell_type": "code",
   "execution_count": 13,
   "id": "3943ce9f",
   "metadata": {},
   "outputs": [
    {
     "name": "stdout",
     "output_type": "stream",
     "text": [
      "100\n",
      "270.0\n",
      "Quantity must be greater than zero.\n"
     ]
    }
   ],
   "source": [
    "def calculate_price(item_price, quantity):\n",
    "    if quantity <= 0:\n",
    "        return \"Quantity must be greater than zero.\"  \n",
    "    elif quantity <= 10:\n",
    "        total_price = item_price * quantity\n",
    "        return total_price  \n",
    "    else:\n",
    "        total_price = item_price * quantity * 0.9 \n",
    "        return total_price  \n",
    "\n",
    "print(calculate_price(20, 5))  \n",
    "print(calculate_price(20, 15)) \n",
    "print(calculate_price(20, 0))  "
   ]
  },
  {
   "cell_type": "markdown",
   "id": "2f13660a",
   "metadata": {},
   "source": [
    "que 4 = What are lambda functions in Python? How are they different from regular functions? Provide an\n",
    "       example where a lambda function can be useful.\n",
    "    \n",
    "ans 4 = Lambda functions in Python, also known as anonymous functions or lambda expressions, are a way to create small, unnamed functions without the need for a formal def statement. They are typically used for short, simple operations that can be defined in a single line of code. Lambda functions are useful when you need a small function for a short period of time and don't want to define a full-fledged named function.\n",
    "\n",
    "Here's the basic syntax of a lambda function:\n",
    "\n",
    "\n",
    "lambda arguments: expression\n",
    "\n",
    "Lambda functions have the following characteristics and differences from regular functions:\n",
    "\n",
    "Anonymous: Lambda functions are anonymous, meaning they don't have a name like regular functions defined with def.\n",
    "\n",
    "Single Expression: Lambda functions can only contain a single expression, and this expression is evaluated and returned as the result of the lambda function.\n",
    "\n",
    "Short and Concise: They are typically used for simple operations, such as arithmetic calculations, filtering, or mapping elements of an iterable.\n",
    "\n",
    "No Statements or Multiple Expressions: Lambda functions cannot contain statements or multiple expressions. They are limited to a single expression that gets evaluated.\n",
    "\n",
    "No Documentation Strings: Lambda functions cannot have docstrings like regular functions.\n",
    "\n",
    "Here's an example where a lambda function can be useful:\n",
    "\n",
    "Let's say you have a list of tuples representing people's names and their ages, and you want to sort the list based on their ages. You can use the sorted() function with a lambda function as the key to accomplish this task:"
   ]
  },
  {
   "cell_type": "code",
   "execution_count": 17,
   "id": "a2dad019",
   "metadata": {},
   "outputs": [
    {
     "name": "stdout",
     "output_type": "stream",
     "text": [
      "[('Bob', 25), ('David', 28), ('Alice', 30), ('Charlie', 35)]\n"
     ]
    }
   ],
   "source": [
    "people = [(\"Alice\", 30), (\"Bob\", 25), (\"Charlie\", 35), (\"David\", 28)]\n",
    "\n",
    "\n",
    "sorted_people = sorted(people, key=lambda person: person[1])\n",
    "\n",
    "print(sorted_people)\n"
   ]
  },
  {
   "cell_type": "markdown",
   "id": "0d6a1017",
   "metadata": {},
   "source": [
    "que 5 = How does the concept of \"scope\" apply to functions in Python? Explain the difference between local\n",
    "        scope and global scope.\n",
    "    \n",
    "ans 5 = In Python, the concept of \"scope\" refers to the region of a program where a particular variable or name is accessible and can be used. Python has two main types of scopes: local scope and global scope. Understanding these scopes is crucial for writing clean and bug-free code.\n",
    "\n",
    "Local ScopeLocal scope, also known as function scope, exists within a specific function or method.\n",
    "\n",
    "Variables defined inside a function are said to have a local scope, which means they are only accessible within that function.\n",
    "Local variables are created when a function is called and destroyed when the function exits.\n",
    "These variables are not visible to other functions or code outside the function in which they are defined.\n",
    "\n",
    "Example of local scope:"
   ]
  },
  {
   "cell_type": "code",
   "execution_count": 18,
   "id": "4b8e1b71",
   "metadata": {},
   "outputs": [
    {
     "name": "stdout",
     "output_type": "stream",
     "text": [
      "10\n"
     ]
    },
    {
     "ename": "NameError",
     "evalue": "name 'x' is not defined",
     "output_type": "error",
     "traceback": [
      "\u001b[1;31m---------------------------------------------------------------------------\u001b[0m",
      "\u001b[1;31mNameError\u001b[0m                                 Traceback (most recent call last)",
      "Cell \u001b[1;32mIn[18], line 6\u001b[0m\n\u001b[0;32m      3\u001b[0m     \u001b[38;5;28mprint\u001b[39m(x)\n\u001b[0;32m      5\u001b[0m my_function()\n\u001b[1;32m----> 6\u001b[0m \u001b[38;5;28mprint\u001b[39m(x)\n",
      "\u001b[1;31mNameError\u001b[0m: name 'x' is not defined"
     ]
    }
   ],
   "source": [
    "def my_function():\n",
    "    x = 10  # x is a local variable\n",
    "    print(x)\n",
    "\n",
    "my_function()\n",
    "print(x)  # This will raise an error because x is not defined in the global scope\n"
   ]
  },
  {
   "cell_type": "markdown",
   "id": "d79fb98a",
   "metadata": {},
   "source": [
    "Global Scope:Global scope refers to the top-level scope of a Python program, outside of any functions or methods.\n",
    "    \n",
    "Variables declared outside of all functions, classes, or other blocks have global scope.\n",
    "Global variables are accessible from any part of the program, including functions.\n",
    "Unlike local variables, global variables persist throughout the program's execution.\n",
    "\n",
    "Example of global scope:"
   ]
  },
  {
   "cell_type": "code",
   "execution_count": 19,
   "id": "3efb2c04",
   "metadata": {},
   "outputs": [
    {
     "name": "stdout",
     "output_type": "stream",
     "text": [
      "20\n",
      "20\n"
     ]
    }
   ],
   "source": [
    "y = 20  # y is a global variable\n",
    "\n",
    "def my_function():\n",
    "    print(y)  # Accessing a global variable inside a function\n",
    "\n",
    "my_function()\n",
    "print(y)  # y is accessible outside the function as well\n"
   ]
  },
  {
   "cell_type": "markdown",
   "id": "193f6448",
   "metadata": {},
   "source": [
    "It's important to note that if you try to modify a global variable from within a function, \n",
    "Python will treat it as a local variable within that function unless you explicitly indicate \n",
    "that you want to work with the global variable using the global keyword"
   ]
  },
  {
   "cell_type": "code",
   "execution_count": 20,
   "id": "a9c55f09",
   "metadata": {},
   "outputs": [
    {
     "name": "stdout",
     "output_type": "stream",
     "text": [
      "40\n"
     ]
    }
   ],
   "source": [
    "z = 30  # z is a global variable\n",
    "\n",
    "def modify_global():\n",
    "    global z  # Use the global keyword to indicate that we want to modify the global variable\n",
    "    z = 40\n",
    "\n",
    "modify_global()\n",
    "print(z)  # z has been modified to 40\n"
   ]
  },
  {
   "cell_type": "markdown",
   "id": "9a960644",
   "metadata": {},
   "source": [
    "que 6 = How can you use the \"return\" statement in a Python function to return multiple values?\n",
    "\n",
    "ans 6 = In Python, you can use the return statement in a function to return multiple values by packing those values into a data structure, typically a tuple, list, or dictionary. Here are a few different approaches to return multiple values from a function:\n",
    "\n",
    "Using a Tuple:\n",
    "You can use a tuple to return multiple values from a function.\n",
    "Simply separate the values you want to return with commas and enclose them in parentheses."
   ]
  },
  {
   "cell_type": "code",
   "execution_count": 21,
   "id": "52fc8810",
   "metadata": {},
   "outputs": [
    {
     "name": "stdout",
     "output_type": "stream",
     "text": [
      "(42, 'Hello')\n"
     ]
    }
   ],
   "source": [
    "def return_multiple_values():\n",
    "    value1 = 42\n",
    "    value2 = \"Hello\"\n",
    "    return value1, value2\n",
    "\n",
    "result = return_multiple_values()\n",
    "print(result)  # Output: (42, 'Hello')\n"
   ]
  },
  {
   "cell_type": "code",
   "execution_count": 22,
   "id": "5737e27a",
   "metadata": {},
   "outputs": [
    {
     "name": "stdout",
     "output_type": "stream",
     "text": [
      "42\n",
      "Hello\n"
     ]
    }
   ],
   "source": [
    "#You can then unpack the returned tuple into separate variables if needed.\n",
    "result1, result2 = return_multiple_values()\n",
    "print(result1)  # Output: 42\n",
    "print(result2)  # Output: 'Hello'"
   ]
  },
  {
   "cell_type": "code",
   "execution_count": 23,
   "id": "75b329ce",
   "metadata": {},
   "outputs": [
    {
     "name": "stdout",
     "output_type": "stream",
     "text": [
      "[42, 'Hello']\n"
     ]
    }
   ],
   "source": [
    "#Using a List: Similar to tuples, you can use a list to return multiple values from a function.\n",
    "def return_multiple_values_as_list():\n",
    "    value1 = 42\n",
    "    value2 = \"Hello\"\n",
    "    return [value1, value2]\n",
    "\n",
    "result = return_multiple_values_as_list()\n",
    "print(result)  # Output: [42, 'Hello']\n"
   ]
  },
  {
   "cell_type": "code",
   "execution_count": 24,
   "id": "9955de4b",
   "metadata": {},
   "outputs": [
    {
     "name": "stdout",
     "output_type": "stream",
     "text": [
      "{'value1': 42, 'value2': 'Hello'}\n",
      "42\n",
      "Hello\n"
     ]
    }
   ],
   "source": [
    "#Using a Dictionary: You can also use a dictionary to return multiple values, associating each value with a key.\n",
    "def return_multiple_values_as_dict():\n",
    "    value1 = 42\n",
    "    value2 = \"Hello\"\n",
    "    return {\"value1\": value1, \"value2\": value2}\n",
    "\n",
    "result = return_multiple_values_as_dict()\n",
    "print(result)  # Output: {'value1': 42, 'value2': 'Hello'}\n",
    "#When returning multiple values using a dictionary, you can access the individual values by their keys.\n",
    "print(result[\"value1\"])  # Output: 42\n",
    "print(result[\"value2\"])  # Output: 'Hello'\n"
   ]
  },
  {
   "cell_type": "markdown",
   "id": "95ac3efa",
   "metadata": {},
   "source": [
    "que 7 = What is the difference between the \"pass by value\" and \"pass by reference\" concepts when it\n",
    "comes to function arguments in Python?\n",
    "\n",
    "que 7 =  In Python, function argument passing is a bit different from some other programming languages like C++ or Java, where the terms \"pass by value\" and \"pass by reference\" are commonly used. Python uses a mechanism that is often described as \"pass by object reference\" or \"pass by assignment.\" Understanding this concept is important to grasp how Python handles function arguments. Let's explore the differences:\n",
    "\n",
    "Pass by Value (Immutable Objects):\n",
    "    In a \"pass by value\" system, a copy of the actual data is passed to the function. Any modifications made to the parameter within the function do not affect the original data.\n",
    "In Python, immutable objects like integers, floats, strings, and tuples are passed by value. This means that if you pass an immutable object to a function and modify it within the function, the original object remains unchanged.\n",
    "Example:"
   ]
  },
  {
   "cell_type": "code",
   "execution_count": 27,
   "id": "d82ad506",
   "metadata": {},
   "outputs": [
    {
     "name": "stdout",
     "output_type": "stream",
     "text": [
      "5\n"
     ]
    }
   ],
   "source": [
    "def modify_value(x):\n",
    "    x = x + 1\n",
    "\n",
    "num = 5\n",
    "modify_value(num)\n",
    "print(num) "
   ]
  },
  {
   "cell_type": "markdown",
   "id": "8ac46e1b",
   "metadata": {},
   "source": [
    "Pass by Object Reference (Mutable Objects):\n",
    "\n",
    "In a \"pass by reference\" system, a reference to the original data is passed to the function. Any modifications made to the parameter within the function affect the original data.\n",
    "In Python, mutable objects like lists, dictionaries, and user-defined objects are passed by what can be described as a \"pass by object reference.\" This means that if you pass a mutable object to a function and modify it within the function, the changes will be reflected in the original object.\n",
    "Example:"
   ]
  },
  {
   "cell_type": "code",
   "execution_count": 28,
   "id": "8dfd5635",
   "metadata": {},
   "outputs": [
    {
     "name": "stdout",
     "output_type": "stream",
     "text": [
      "[1, 2, 3, 4]\n"
     ]
    }
   ],
   "source": [
    "def modify_list(lst):\n",
    "    lst.append(4)\n",
    "\n",
    "my_list = [1, 2, 3]\n",
    "modify_list(my_list)\n",
    "print(my_list)  \n"
   ]
  },
  {
   "cell_type": "markdown",
   "id": "85c763f1",
   "metadata": {},
   "source": [
    "que 8 = Create a function that can intake integer or decimal value and do following operations:\n",
    "a. Logarithmic function (log x)\n",
    "\n",
    "b. Exponential function (exp(x))\n",
    "\n",
    "c. Power function with base 2 (2x)\n",
    "\n",
    "d. squre root\n",
    "\n",
    "ans 8 ="
   ]
  },
  {
   "cell_type": "code",
   "execution_count": 31,
   "id": "d1757e94",
   "metadata": {},
   "outputs": [
    {
     "name": "stdout",
     "output_type": "stream",
     "text": [
      "Logarithmic (log x): 1.3862943611198906\n",
      "Exponential (exp(x)): 54.598150033144236\n",
      "Power (2^x): 16.0\n",
      "Square Root (√x): 2.0\n"
     ]
    }
   ],
   "source": [
    "import math\n",
    "\n",
    "def perform_operations(x):\n",
    "    try:\n",
    "        x = float(x)\n",
    "        if x < 0:\n",
    "            return \"Input must be a non-negative number.\"\n",
    "        \n",
    "        result = {\n",
    "            \"Logarithmic (log x)\": math.log(x),\n",
    "            \"Exponential (exp(x))\": math.exp(x),\n",
    "            \"Power (2^x)\": 2 ** x,\n",
    "            \"Square Root (√x)\": math.sqrt(x)\n",
    "        }\n",
    "        \n",
    "        return result\n",
    "    except ValueError:\n",
    "        return \"Invalid input. Please enter a valid number.\"\n",
    "\n",
    "# Example usage:\n",
    "input_value = 4.0\n",
    "result = perform_operations(input_value)\n",
    "for operation, value in result.items():\n",
    "    print(f\"{operation}: {value}\")\n"
   ]
  },
  {
   "cell_type": "markdown",
   "id": "4e9d9961",
   "metadata": {},
   "source": [
    "que 9 = Create a function that takes a full name as an argument and returns first name and last name?\n",
    "\n",
    "ans 9 = "
   ]
  },
  {
   "cell_type": "code",
   "execution_count": 30,
   "id": "c4e33c44",
   "metadata": {},
   "outputs": [
    {
     "name": "stdout",
     "output_type": "stream",
     "text": [
      "First Name: sachin\n",
      "Last Name: purohit\n"
     ]
    }
   ],
   "source": [
    "def split_full_name(full_name):\n",
    "\n",
    "    name_parts = full_name.split()\n",
    "\n",
    "   \n",
    "    if len(name_parts) == 0:\n",
    "        return \"No name provided\"\n",
    "    elif len(name_parts) == 1:\n",
    "        return name_parts[0], \"\"\n",
    "\n",
    "   \n",
    "    first_name = name_parts[0]\n",
    "    last_name = \" \".join(name_parts[1:])\n",
    "    \n",
    "    return first_name, last_name\n",
    "\n",
    "\n",
    "full_name = \"sachin purohit\"\n",
    "first_name, last_name = split_full_name(full_name)\n",
    "print(\"First Name:\", first_name)\n",
    "print(\"Last Name:\", last_name)\n"
   ]
  },
  {
   "cell_type": "raw",
   "id": "9b41b016",
   "metadata": {},
   "source": []
  },
  {
   "cell_type": "raw",
   "id": "5f39f1de",
   "metadata": {},
   "source": []
  }
 ],
 "metadata": {
  "kernelspec": {
   "display_name": "Python 3 (ipykernel)",
   "language": "python",
   "name": "python3"
  },
  "language_info": {
   "codemirror_mode": {
    "name": "ipython",
    "version": 3
   },
   "file_extension": ".py",
   "mimetype": "text/x-python",
   "name": "python",
   "nbconvert_exporter": "python",
   "pygments_lexer": "ipython3",
   "version": "3.11.4"
  }
 },
 "nbformat": 4,
 "nbformat_minor": 5
}
